{
 "cells": [
  {
   "cell_type": "code",
   "execution_count": 6,
   "metadata": {},
   "outputs": [
    {
     "name": "stdout",
     "output_type": "stream",
     "text": [
      "Invalid Password\n"
     ]
    }
   ],
   "source": [
    "\n",
    "\n",
    "def check_password(password):\n",
    "    # Check if password length is between 8 and 20 characters\n",
    "    if len(password) < 8 or len(password) > 20:\n",
    "        return \"Invalid Password\"\n",
    "    \n",
    "    # Check if password contains at least one lowercase letter\n",
    "    if not re.search(\"[a-z]\", password):\n",
    "        return \"Invalid Password\"\n",
    "    \n",
    "    # Check if password contains at least one uppercase letter\n",
    "    if not re.search(\"[A-Z]\", password):\n",
    "        return \"Invalid Password\"\n",
    "    \n",
    "    # Check if password contains at least one digit\n",
    "    if not re.search(\"[0-9]\", password):\n",
    "        return \"Invalid Password\"\n",
    "    \n",
    "    # Check if password contains at least one special character\n",
    "    if not re.search(\"[!@#$%^&*()_+=\\[{\\]};:<>|./?,-]\", password):\n",
    "        return \"Invalid Password\"\n",
    "    \n",
    "    # If all conditions are met, password is valid\n",
    "    return \"Valid Password\"\n",
    "\n",
    "# Example usage:\n",
    "password = input(\"Enter your password: \")\n",
    "print(check_password(password))\n"
   ]
  },
  {
   "cell_type": "code",
   "execution_count": 7,
   "metadata": {},
   "outputs": [
    {
     "name": "stdout",
     "output_type": "stream",
     "text": [
      "True\n",
      "True\n",
      "[('orange', 80), ('mango', 99), ('grapes', 1000)]\n",
      "[1, 4, 9, 16, 25, 36, 49, 64, 81, 100]\n",
      "[1.0, 1.2599210498948732, 1.4422495703074083, 1.5874010519681994, 1.7099759466766968, 1.8171205928321397, 1.912931182772389, 2.0, 2.080083823051904, 2.154434690031884]\n",
      "True\n",
      "[1, 3, 5, 7, 9]\n",
      "Positive: [1, 2, 3, 4, 5, 6]\n",
      "Negative: [-1, -2, -3, -4, -5]\n"
     ]
    }
   ],
   "source": [
    "string = \"Banana\"\n",
    "result = string.startswith(\"B\")\n",
    "print(result)\n",
    "# Output: True\n",
    "\n",
    "\n",
    "string = \"123\"\n",
    "result = string.isnumeric()\n",
    "print(result)\n",
    "# Output: True\n",
    "\n",
    "\n",
    "fruits = [(\"mango\", 99), (\"orange\", 80), (\"grapes\", 1000)]\n",
    "sorted_fruits = sorted(fruits, key=lambda x: x[1])\n",
    "print(sorted_fruits)\n",
    "# Output: [('orange', 80), ('mango', 99), ('grapes', 1000)]\n",
    "\n",
    "\n",
    "squares = [x**2 for x in range(1, 11)]\n",
    "print(squares)\n",
    "# Output: [1, 4, 9, 16, 25, 36, 49, 64, 81, 100]\n",
    "\n",
    "\n",
    "import math\n",
    "cube_roots = [math.pow(x, 1/3) for x in range(1, 11)]\n",
    "print(cube_roots)\n",
    "# Output: [1.0, 1.2599210498948732, 1.4422495703074083, 1.5874010519681994, 1.7099759466766968, 1.8171205928321397, 1.912931182772389, 2.0, 2.080083823051904, 2.154434690031884]\n",
    "\n",
    "\n",
    "number = 6\n",
    "result = number % 2 == 0\n",
    "print(result)\n",
    "# Output: True\n",
    "\n",
    "\n",
    "numbers = [1, 2, 3, 4, 5, 6, 7, 8, 9, 10]\n",
    "odd_numbers = list(filter(lambda x: x % 2 != 0, numbers))\n",
    "print(odd_numbers)\n",
    "# Output: [1, 3, 5, 7, 9]\n",
    "\n",
    "\n",
    "numbers = [1, 2, 3, 4, 5, 6, -1, -2, -3, -4, -5, 0]\n",
    "positive_numbers = [x for x in numbers if x > 0]\n",
    "negative_numbers = [x for x in numbers if x < 0]\n",
    "print(\"Positive:\", positive_numbers)\n",
    "print(\"Negative:\", negative_numbers)\n",
    "# Output:\n",
    "# Positive: [1, 2, 3, 4, 5, 6]\n",
    "# Negative: [-1, -2, -3, -4, -5]\n",
    "\n"
   ]
  }
 ],
 "metadata": {
  "kernelspec": {
   "display_name": "Python 3",
   "language": "python",
   "name": "python3"
  },
  "language_info": {
   "codemirror_mode": {
    "name": "ipython",
    "version": 3
   },
   "file_extension": ".py",
   "mimetype": "text/x-python",
   "name": "python",
   "nbconvert_exporter": "python",
   "pygments_lexer": "ipython3",
   "version": "3.8.0"
  }
 },
 "nbformat": 4,
 "nbformat_minor": 2
}
